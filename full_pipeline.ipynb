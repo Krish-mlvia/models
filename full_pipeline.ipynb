{
 "cells": [
  {
   "cell_type": "markdown",
   "id": "daf592ae",
   "metadata": {},
   "source": [
    "# Workforce Optimization ML Pipeline\n",
    "## Time and Resource Allocation in Project Management System\n",
    "\n",
    "This notebook demonstrates the complete machine learning pipeline for:\n",
    "1. **Skill-based task assignment** using Sentence Transformers and LightGBM\n",
    "2. **Workload prediction** for task completion time\n",
    "3. **Optimal task assignment** using Hungarian Algorithm and Integer Linear Programming\n",
    "\n",
    "---"
   ]
  },
  {
   "cell_type": "markdown",
   "id": "41c7ba0c",
   "metadata": {},
   "source": [
    "## 1. Setup and Imports"
   ]
  },
  {
   "cell_type": "code",
   "execution_count": null,
   "id": "c41e6c68",
   "metadata": {},
   "outputs": [],
   "source": [
    "# Install required packages (run once)\n",
    "# !pip install -r requirements.txt\n",
    "\n",
    "import sys\n",
    "sys.path.append('src')\n",
    "\n",
    "import pandas as pd\n",
    "import numpy as np\n",
    "import matplotlib.pyplot as plt\n",
    "import seaborn as sns\n",
    "import warnings\n",
    "warnings.filterwarnings('ignore')\n",
    "\n",
    "# Set display options\n",
    "pd.set_option('display.max_columns', None)\n",
    "pd.set_option('display.width', 1000)\n",
    "sns.set_style('whitegrid')\n",
    "\n",
    "print(\"✅ Imports successful!\")"
   ]
  },
  {
   "cell_type": "markdown",
   "id": "d56db051",
   "metadata": {},
   "source": [
    "## 2. Load and Explore Data"
   ]
  },
  {
   "cell_type": "code",
   "execution_count": null,
   "id": "dc03f16a",
   "metadata": {},
   "outputs": [],
   "source": [
    "# Load datasets\n",
    "employee_df = pd.read_csv('data/employee_dataset_532.csv')\n",
    "task_df = pd.read_csv('data/task_dataset_40.csv')\n",
    "\n",
    "print(f\"Employee dataset: {employee_df.shape}\")\n",
    "print(f\"Task dataset: {task_df.shape}\")\n",
    "\n",
    "print(\"\\n\" + \"=\"*80)\n",
    "print(\"EMPLOYEE DATA SAMPLE\")\n",
    "print(\"=\"*80)\n",
    "display(employee_df.head())\n",
    "\n",
    "print(\"\\n\" + \"=\"*80)\n",
    "print(\"TASK DATA SAMPLE\")\n",
    "print(\"=\"*80)\n",
    "display(task_df.head())"
   ]
  },
  {
   "cell_type": "code",
   "execution_count": null,
   "id": "75afc37b",
   "metadata": {},
   "outputs": [],
   "source": [
    "# Data statistics\n",
    "print(\"EMPLOYEE STATISTICS\")\n",
    "print(\"=\"*80)\n",
    "print(f\"Total Employees: {len(employee_df)}\")\n",
    "print(f\"\\nExperience Distribution:\")\n",
    "print(employee_df['Experience_Years'].describe())\n",
    "print(f\"\\nPerformance Distribution:\")\n",
    "print(employee_df['Performance_1_10'].describe())\n",
    "print(f\"\\nDepartments:\")\n",
    "print(employee_df['Department'].value_counts())\n",
    "\n",
    "print(\"\\n\" + \"=\"*80)\n",
    "print(\"TASK STATISTICS\")\n",
    "print(\"=\"*80)\n",
    "print(f\"Total Tasks: {len(task_df)}\")\n",
    "print(f\"\\nPriority Distribution:\")\n",
    "print(task_df['Priority'].value_counts())\n",
    "print(f\"\\nDifficulty Distribution:\")\n",
    "print(task_df['Difficulty'].value_counts())\n",
    "print(f\"\\nEstimated Hours:\")\n",
    "print(task_df['Estimated_Hours'].describe())"
   ]
  },
  {
   "cell_type": "markdown",
   "id": "55a6704d",
   "metadata": {},
   "source": [
    "## 3. Data Preprocessing"
   ]
  },
  {
   "cell_type": "code",
   "execution_count": null,
   "id": "79f429ad",
   "metadata": {},
   "outputs": [],
   "source": [
    "from data_preprocessing import preprocess_pipeline\n",
    "\n",
    "employee_df_clean, task_df_clean = preprocess_pipeline(\n",
    "    'data/employee_dataset_532.csv',\n",
    "    'data/task_dataset_40.csv'\n",
    ")\n",
    "\n",
    "print(\"\\n✅ Data preprocessing complete!\")\n",
    "print(f\"Cleaned employee data: {employee_df_clean.shape}\")\n",
    "print(f\"Cleaned task data: {task_df_clean.shape}\")"
   ]
  },
  {
   "cell_type": "markdown",
   "id": "12fee630",
   "metadata": {},
   "source": [
    "## 4. Feature Engineering with Sentence Transformers"
   ]
  },
  {
   "cell_type": "code",
   "execution_count": null,
   "id": "b138a9d9",
   "metadata": {},
   "outputs": [],
   "source": [
    "from feature_engineering import engineer_features_pipeline\n",
    "\n",
    "pairs_df, employee_embeddings, task_embeddings, similarity_matrix = engineer_features_pipeline(\n",
    "    employee_df_clean,\n",
    "    task_df_clean\n",
    ")\n",
    "\n",
    "print(\"\\n✅ Feature engineering complete!\")\n",
    "print(f\"Employee-task pairs: {pairs_df.shape}\")\n",
    "print(f\"Employee embeddings: {employee_embeddings.shape}\")\n",
    "print(f\"Task embeddings: {task_embeddings.shape}\")\n",
    "print(f\"Similarity matrix: {similarity_matrix.shape}\")"
   ]
  },
  {
   "cell_type": "code",
   "execution_count": null,
   "id": "c4f54e25",
   "metadata": {},
   "outputs": [],
   "source": [
    "# Explore engineered features\n",
    "print(\"ENGINEERED FEATURES\")\n",
    "print(\"=\"*80)\n",
    "print(pairs_df.columns.tolist())\n",
    "\n",
    "print(\"\\nFEATURE SAMPLE:\")\n",
    "display(pairs_df.head(10))\n",
    "\n",
    "print(\"\\nSUITABILITY SCORE DISTRIBUTION:\")\n",
    "print(pairs_df['suitability_score'].describe())"
   ]
  },
  {
   "cell_type": "code",
   "execution_count": null,
   "id": "25721ca4",
   "metadata": {},
   "outputs": [],
   "source": [
    "# Visualize similarity matrix\n",
    "plt.figure(figsize=(12, 8))\n",
    "plt.imshow(similarity_matrix[:50, :], cmap='RdYlGn', aspect='auto')\n",
    "plt.colorbar(label='Skill Similarity Score')\n",
    "plt.xlabel('Task Index')\n",
    "plt.ylabel('Employee Index (first 50)')\n",
    "plt.title('Employee-Task Skill Similarity Heatmap', fontsize=16, fontweight='bold')\n",
    "plt.tight_layout()\n",
    "plt.show()"
   ]
  },
  {
   "cell_type": "markdown",
   "id": "e739f418",
   "metadata": {},
   "source": [
    "## 5. Train Suitability Prediction Model"
   ]
  },
  {
   "cell_type": "code",
   "execution_count": null,
   "id": "dfb0fdfb",
   "metadata": {},
   "outputs": [],
   "source": [
    "from train_suitability_model import (\n",
    "    prepare_suitability_data,\n",
    "    train_suitability_model,\n",
    "    evaluate_suitability_model,\n",
    "    save_suitability_model\n",
    ")\n",
    "\n",
    "# Prepare data\n",
    "X_suit, y_suit = prepare_suitability_data(pairs_df)\n",
    "\n",
    "# Train model with Optuna optimization\n",
    "suit_model, suit_params, X_train_suit, y_train_suit, X_test_suit, y_test_suit = train_suitability_model(\n",
    "    X_suit, y_suit,\n",
    "    use_optuna=True,\n",
    "    n_trials=30,\n",
    "    random_state=42\n",
    ")\n",
    "\n",
    "# Evaluate model\n",
    "suit_metrics = evaluate_suitability_model(\n",
    "    suit_model, X_train_suit, y_train_suit, X_test_suit, y_test_suit, pairs_df\n",
    ")\n",
    "\n",
    "# Save model\n",
    "save_suitability_model(suit_model, suit_params, suit_metrics)\n",
    "\n",
    "print(\"\\n✅ Suitability model training complete!\")"
   ]
  },
  {
   "cell_type": "code",
   "execution_count": null,
   "id": "67456f5f",
   "metadata": {},
   "outputs": [],
   "source": [
    "# Visualize model performance\n",
    "from visualizations import plot_prediction_distribution, plot_feature_importance\n",
    "\n",
    "y_test_pred = suit_model.predict(X_test_suit)\n",
    "\n",
    "plot_prediction_distribution(\n",
    "    y_test_suit.values,\n",
    "    y_test_pred,\n",
    "    title=\"Suitability Model Performance\"\n",
    ")\n",
    "plt.show()\n",
    "\n",
    "plot_feature_importance(\n",
    "    suit_model,\n",
    "    X_train_suit.columns.tolist(),\n",
    "    top_n=15\n",
    ")\n",
    "plt.show()"
   ]
  },
  {
   "cell_type": "markdown",
   "id": "ee7e1433",
   "metadata": {},
   "source": [
    "## 6. Train Workload Prediction Model"
   ]
  },
  {
   "cell_type": "code",
   "execution_count": null,
   "id": "dfb0c205",
   "metadata": {},
   "outputs": [],
   "source": [
    "from train_workload_model import (\n",
    "    prepare_workload_data,\n",
    "    train_workload_model,\n",
    "    evaluate_workload_model,\n",
    "    save_workload_model\n",
    ")\n",
    "\n",
    "# Prepare data\n",
    "X_work, y_work = prepare_workload_data(pairs_df)\n",
    "\n",
    "# Train model with Optuna optimization\n",
    "work_model, work_params, X_train_work, y_train_work, X_test_work, y_test_work = train_workload_model(\n",
    "    X_work, y_work,\n",
    "    use_optuna=True,\n",
    "    n_trials=30,\n",
    "    random_state=42\n",
    ")\n",
    "\n",
    "# Evaluate model\n",
    "work_metrics = evaluate_workload_model(\n",
    "    work_model, X_train_work, y_train_work, X_test_work, y_test_work\n",
    ")\n",
    "\n",
    "# Save model\n",
    "save_workload_model(work_model, work_params, work_metrics)\n",
    "\n",
    "print(\"\\n✅ Workload model training complete!\")"
   ]
  },
  {
   "cell_type": "code",
   "execution_count": null,
   "id": "27818808",
   "metadata": {},
   "outputs": [],
   "source": [
    "# Visualize model performance\n",
    "y_test_pred_work = work_model.predict(X_test_work)\n",
    "\n",
    "plot_prediction_distribution(\n",
    "    y_test_work.values,\n",
    "    y_test_pred_work,\n",
    "    title=\"Workload Model Performance\"\n",
    ")\n",
    "plt.show()\n",
    "\n",
    "plot_feature_importance(\n",
    "    work_model,\n",
    "    X_train_work.columns.tolist(),\n",
    "    top_n=15\n",
    ")\n",
    "plt.show()"
   ]
  },
  {
   "cell_type": "markdown",
   "id": "621b674e",
   "metadata": {},
   "source": [
    "## 7. Generate Predictions for All Employee-Task Pairs"
   ]
  },
  {
   "cell_type": "code",
   "execution_count": null,
   "id": "7a88e6ae",
   "metadata": {},
   "outputs": [],
   "source": [
    "# Create prediction matrices\n",
    "n_employees = len(employee_df_clean)\n",
    "n_tasks = len(task_df_clean)\n",
    "\n",
    "suitability_matrix = np.zeros((n_employees, n_tasks))\n",
    "workload_matrix = np.zeros((n_employees, n_tasks))\n",
    "\n",
    "print(\"Generating predictions for all employee-task combinations...\")\n",
    "print(f\"Total combinations: {n_employees * n_tasks}\")\n",
    "\n",
    "from tqdm import tqdm\n",
    "\n",
    "for emp_idx in tqdm(range(n_employees), desc=\"Processing employees\"):\n",
    "    emp = employee_df_clean.iloc[emp_idx]\n",
    "    \n",
    "    for task_idx in range(n_tasks):\n",
    "        task = task_df_clean.iloc[task_idx]\n",
    "        \n",
    "        # Create feature vectors\n",
    "        features_suit = {\n",
    "            'skill_similarity_score': similarity_matrix[emp_idx, task_idx],\n",
    "            'experience_years': emp['Experience_Years'],\n",
    "            'required_experience': task['Required_Experience'],\n",
    "            'experience_difference': emp['Experience_Years'] - task['Required_Experience'],\n",
    "            'performance_score': emp['Performance_1_10'],\n",
    "            'success_rate': emp['LastProjectSuccessRate'],\n",
    "            'current_workload': emp['Current_Workload_Tasks'],\n",
    "            'availability_hours': emp['Availability_Hours_per_Week'],\n",
    "            'workload_ratio': emp['workload_ratio'],\n",
    "            'efficiency_score': emp['efficiency_score'],\n",
    "            'estimated_hours': task['Estimated_Hours'],\n",
    "            'deadline_days': task['Deadline_Days'],\n",
    "            'difficulty_numeric': task['Difficulty_Numeric'],\n",
    "            'priority_numeric': task['Priority_Numeric'],\n",
    "            'urgency_score': task['urgency_score'],\n",
    "            'complexity_score': task['complexity_score'],\n",
    "            'department_match': int(emp['Department'] == task['Department']),\n",
    "            'hours_vs_availability': task['Estimated_Hours'] / emp['Availability_Hours_per_Week'],\n",
    "            'role_alignment': 0\n",
    "        }\n",
    "        \n",
    "        features_work = {\n",
    "            'estimated_hours': task['Estimated_Hours'],\n",
    "            'difficulty_numeric': task['Difficulty_Numeric'],\n",
    "            'complexity_score': task['complexity_score'],\n",
    "            'experience_years': emp['Experience_Years'],\n",
    "            'required_experience': task['Required_Experience'],\n",
    "            'performance_score': emp['Performance_1_10'],\n",
    "            'success_rate': emp['LastProjectSuccessRate'],\n",
    "            'efficiency_score': emp['efficiency_score'],\n",
    "            'current_workload': emp['Current_Workload_Tasks'],\n",
    "            'workload_ratio': emp['workload_ratio'],\n",
    "            'availability_hours': emp['Availability_Hours_per_Week'],\n",
    "            'skill_similarity_score': similarity_matrix[emp_idx, task_idx],\n",
    "            'department_match': int(emp['Department'] == task['Department']),\n",
    "            'role_alignment': 0,\n",
    "            'priority_numeric': task['Priority_Numeric'],\n",
    "            'deadline_days': task['Deadline_Days']\n",
    "        }\n",
    "        \n",
    "        # Predict\n",
    "        X_suit_pred = pd.DataFrame([features_suit])\n",
    "        X_work_pred = pd.DataFrame([features_work])\n",
    "        \n",
    "        suitability_matrix[emp_idx, task_idx] = suit_model.predict(X_suit_pred)[0]\n",
    "        workload_matrix[emp_idx, task_idx] = work_model.predict(X_work_pred)[0]\n",
    "\n",
    "print(\"\\n✅ Prediction matrices generated!\")\n",
    "print(f\"Suitability matrix: {suitability_matrix.shape}\")\n",
    "print(f\"Workload matrix: {workload_matrix.shape}\")"
   ]
  },
  {
   "cell_type": "markdown",
   "id": "95623721",
   "metadata": {},
   "source": [
    "## 8. Optimize Task Assignment (ILP)"
   ]
  },
  {
   "cell_type": "code",
   "execution_count": null,
   "id": "c371572c",
   "metadata": {},
   "outputs": [],
   "source": [
    "from assignment_optimizer import ilp_assignment_with_constraints, save_assignments\n",
    "\n",
    "final_assignments = ilp_assignment_with_constraints(\n",
    "    employee_df_clean,\n",
    "    task_df_clean,\n",
    "    suitability_matrix,\n",
    "    workload_matrix,\n",
    "    max_tasks_per_employee=2,\n",
    "    alpha=0.6,\n",
    "    beta=0.4\n",
    ")\n",
    "\n",
    "print(\"\\n✅ Task assignment optimization complete!\")\n",
    "print(f\"Total assignments: {len(final_assignments)}\")"
   ]
  },
  {
   "cell_type": "code",
   "execution_count": null,
   "id": "d33ec120",
   "metadata": {},
   "outputs": [],
   "source": [
    "# Display assignments\n",
    "print(\"FINAL TASK ASSIGNMENTS\")\n",
    "print(\"=\"*80)\n",
    "display(final_assignments.head(20))\n",
    "\n",
    "# Save to CSV\n",
    "save_assignments(final_assignments)"
   ]
  },
  {
   "cell_type": "markdown",
   "id": "a4c00aa7",
   "metadata": {},
   "source": [
    "## 9. Visualize Results"
   ]
  },
  {
   "cell_type": "code",
   "execution_count": null,
   "id": "0b3a6231",
   "metadata": {},
   "outputs": [],
   "source": [
    "from visualizations import plot_assignment_statistics\n",
    "\n",
    "plot_assignment_statistics(final_assignments)\n",
    "plt.show()"
   ]
  },
  {
   "cell_type": "markdown",
   "id": "6eb0cd6a",
   "metadata": {},
   "source": [
    "## 10. Generate Final Report"
   ]
  },
  {
   "cell_type": "code",
   "execution_count": null,
   "id": "f33907ca",
   "metadata": {},
   "outputs": [],
   "source": [
    "print(\"=\"*80)\n",
    "print(\" \"*20 + \"FINAL PERFORMANCE SUMMARY\")\n",
    "print(\"=\"*80)\n",
    "\n",
    "print(\"\\n📊 SUITABILITY MODEL\")\n",
    "print(\"-\" * 80)\n",
    "print(f\"Test R²:        {suit_metrics['test_r2']:.4f}\")\n",
    "print(f\"Test RMSE:      {suit_metrics['test_rmse']:.4f}\")\n",
    "print(f\"Test MAE:       {suit_metrics['test_mae']:.4f}\")\n",
    "if 'ndcg@5' in suit_metrics:\n",
    "    print(f\"NDCG@5:         {suit_metrics['ndcg@5']:.4f}\")\n",
    "\n",
    "print(\"\\n📊 WORKLOAD MODEL\")\n",
    "print(\"-\" * 80)\n",
    "print(f\"Test R²:        {work_metrics['test_r2']:.4f}\")\n",
    "print(f\"Test MAE:       {work_metrics['test_mae']:.4f} hours\")\n",
    "print(f\"Test RMSE:      {work_metrics['test_rmse']:.4f} hours\")\n",
    "print(f\"Test MAPE:      {work_metrics['test_mape']:.2f}%\")\n",
    "\n",
    "print(\"\\n📊 ASSIGNMENT RESULTS\")\n",
    "print(\"-\" * 80)\n",
    "print(f\"Total Tasks Assigned:        {len(final_assignments)}\")\n",
    "print(f\"Avg Suitability Score:       {final_assignments['SuitabilityScore'].mean():.2f}\")\n",
    "print(f\"Avg Predicted Hours:         {final_assignments['PredictedHours'].mean():.2f}\")\n",
    "\n",
    "if 'AssignedEmployeeID' in final_assignments.columns:\n",
    "    tasks_per_emp = final_assignments.groupby('AssignedEmployeeID').size()\n",
    "    print(f\"\\nWorkload Distribution:\")\n",
    "    print(f\"  Min tasks per employee:    {tasks_per_emp.min()}\")\n",
    "    print(f\"  Max tasks per employee:    {tasks_per_emp.max()}\")\n",
    "    print(f\"  Avg tasks per employee:    {tasks_per_emp.mean():.2f}\")\n",
    "\n",
    "print(\"\\n\" + \"=\"*80)\n",
    "print(\"✅ PIPELINE EXECUTION COMPLETE!\")\n",
    "print(\"=\"*80)"
   ]
  },
  {
   "cell_type": "markdown",
   "id": "b0c65d06",
   "metadata": {},
   "source": [
    "## Summary\n",
    "\n",
    "This notebook demonstrated:\n",
    "\n",
    "1. ✅ **Data preprocessing** with cleaning and feature engineering\n",
    "2. ✅ **Skill embeddings** using Sentence Transformers\n",
    "3. ✅ **Suitability model** training with LightGBM and Optuna\n",
    "4. ✅ **Workload model** training for time prediction\n",
    "5. ✅ **Optimal assignment** using Integer Linear Programming\n",
    "6. ✅ **Comprehensive evaluation** and visualization\n",
    "\n",
    "### Output Files:\n",
    "- `models/suitability_model.pkl`\n",
    "- `models/workload_model.pkl`\n",
    "- `outputs/final_assignments.csv`\n",
    "- `outputs/metrics_report.txt`\n",
    "- Visualization plots\n",
    "\n",
    "### Key Achievements:\n",
    "- **High accuracy** in both suitability and workload prediction\n",
    "- **Optimal assignments** respecting constraints\n",
    "- **Fair workload distribution** across employees\n",
    "- **Scalable pipeline** ready for production use"
   ]
  }
 ],
 "metadata": {
  "language_info": {
   "name": "python"
  }
 },
 "nbformat": 4,
 "nbformat_minor": 5
}
